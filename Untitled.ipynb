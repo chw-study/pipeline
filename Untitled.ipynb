{
 "cells": [
  {
   "cell_type": "code",
   "execution_count": 2,
   "metadata": {
    "autoscroll": false,
    "collapsed": false,
    "ein.tags": "worksheet-0",
    "slideshow": {
     "slide_type": "-"
    }
   },
   "outputs": [],
   "source": [
    "! pip install --quiet pymongo[srv,tls]\n",
    "! pip install --quiet boto3\n",
    "! pip install --quiet python-dotenv"
   ]
  },
  {
   "cell_type": "code",
   "execution_count": 3,
   "metadata": {
    "autoscroll": false,
    "collapsed": false,
    "ein.tags": "worksheet-0",
    "slideshow": {
     "slide_type": "-"
    }
   },
   "outputs": [
    {
     "data": {
      "text/plain": [
       "True"
      ]
     },
     "execution_count": 3,
     "metadata": {},
     "output_type": "execute_result"
    }
   ],
   "source": [
    "import pandas as pd\n",
    "import numpy as np\n",
    "from pymongo import MongoClient\n",
    "from datetime import datetime, timedelta\n",
    "from dateutil import parser\n",
    "import os, re\n",
    "import requests\n",
    "from payments import get_numbers, get_mongo_client, get_crosswalk\n",
    "from tag_training import tag_training_df\n",
    "from load_workers import get_testers\n",
    "\n",
    "from reports import *\n",
    "\n",
    "from pymongo import UpdateOne\n",
    "from dotenv import load_dotenv\n",
    "load_dotenv()"
   ]
  },
  {
   "cell_type": "code",
   "execution_count": null,
   "metadata": {
    "autoscroll": false,
    "collapsed": false,
    "ein.tags": "worksheet-0",
    "slideshow": {
     "slide_type": "-"
    }
   },
   "outputs": [],
   "source": [
    "client = get_mongo_client()\n",
    "messages = get_og_messages(client['healthworkers'].messages)\n",
    "\n",
    "form_id = 'a1cQMO'\n",
    "\n",
    "typeform = clean_typeform(get_typeform_responses(form_id))\n",
    "\n",
    "crosswalk = get_crosswalk('number-changes/number_changes.xlsx')\n",
    "numbers = get_numbers('rosters/chw_database_20180608.xlsx')\n",
    "\n",
    "testers = get_testers(client['healthworkers'].messages, numbers, crosswalk)\n",
    "training_dates = [(n['reporting_number'], n['training_date'])\n",
    "                  for n in numbers.to_dict(orient='records')]\n",
    "\n",
    "tagged = tag_training_df(training_dates, messages, testers)\n",
    "\n",
    "uniques = (tagged\n",
    "           .groupby(['patientName', 'code', 'serviceDate', 'patientPhone'])\n",
    "           .apply(lambda df: df.head(1)))"
   ]
  },
  {
   "cell_type": "code",
   "execution_count": 8,
   "metadata": {
    "autoscroll": false,
    "collapsed": false,
    "ein.tags": "worksheet-0",
    "slideshow": {
     "slide_type": "-"
    }
   },
   "outputs": [],
   "source": [
    "messages = None\n",
    "numbers = None"
   ]
  },
  {
   "cell_type": "code",
   "execution_count": 5,
   "metadata": {
    "autoscroll": false,
    "collapsed": false,
    "ein.tags": "worksheet-0",
    "slideshow": {
     "slide_type": "-"
    }
   },
   "outputs": [],
   "source": [
    "merged = merge_typeform(uniques, typeform)"
   ]
  },
  {
   "cell_type": "code",
   "execution_count": 9,
   "metadata": {
    "autoscroll": false,
    "collapsed": false,
    "ein.tags": "worksheet-0",
    "slideshow": {
     "slide_type": "-"
    }
   },
   "outputs": [],
   "source": [
    "r = merged[merged._merge == 'right_only']\n",
    "l = merged[merged._merge == 'left_only']"
   ]
  },
  {
   "cell_type": "code",
   "execution_count": null,
   "metadata": {
    "autoscroll": false,
    "collapsed": false,
    "ein.tags": "worksheet-0",
    "slideshow": {
     "slide_type": "-"
    }
   },
   "outputs": [],
   "source": [
    "r"
   ]
  },
  {
   "cell_type": "code",
   "execution_count": null,
   "metadata": {
    "autoscroll": false,
    "collapsed": false,
    "ein.tags": "worksheet-0",
    "slideshow": {
     "slide_type": "-"
    }
   },
   "outputs": [],
   "source": [
    "r.merge(l, left_on='patientPhone', right_on='patientphone')"
   ]
  },
  {
   "cell_type": "code",
   "execution_count": null,
   "metadata": {
    "autoscroll": false,
    "collapsed": false,
    "ein.tags": "worksheet-0",
    "slideshow": {
     "slide_type": "-"
    }
   },
   "outputs": [],
   "source": [
    "\n",
    "missing = merged[(~merged.workerPhone.isin(numbers.reporting_number)) &\n",
    "                 (merged.training == False)].shape[0]\n",
    "if missing:\n",
    "    raise Exception('Missing numbers!!')\n",
    "\n",
    "final = (merged\n",
    "         .merge(numbers, left_on='workerPhone', right_on='reporting_number')\n",
    "         .drop(['_id', 'workerPhone', '_merge'], 1))"
   ]
  }
 ],
 "metadata": {
  "kernelspec": {
   "display_name": "Python 3",
   "name": "python3"
  },
  "name": "Untitled.ipynb"
 },
 "nbformat": 4,
 "nbformat_minor": 2
}
